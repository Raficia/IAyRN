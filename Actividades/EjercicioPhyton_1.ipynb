{
  "nbformat": 4,
  "nbformat_minor": 0,
  "metadata": {
    "colab": {
      "provenance": []
    },
    "kernelspec": {
      "name": "python3",
      "display_name": "Python 3"
    },
    "language_info": {
      "name": "python"
    }
  },
  "cells": [
    {
      "cell_type": "markdown",
      "source": [
        "# Actividad 2: Diseño de algoritmos en Python\n",
        "Rafael Medellín García     \n",
        "**Matrícula:** 2001626     \n",
        "**Hora:** Martes N4-N6"
      ],
      "metadata": {
        "id": "2r_wJhlRCHNU"
      }
    },
    {
      "cell_type": "code",
      "source": [
        "#Desarrolla un algoritmo que le pida al usuario su nombre y que lo salude con su nombre, excepto si se llama “Ana”, “Juan”, y “Pedro”.\n",
        "\n",
        "while True:\n",
        "    name1 = input(\"Cuál es tu nombre?  \")\n",
        "    name = name1.lower()\n",
        "\n",
        "    if name != \"ana\" and name != \"juan\" and name != \"pedro\":\n",
        "        break\n",
        "    else:\n",
        "        print(\"Lo siento...\")\n",
        "\n",
        "print (\"Hola! un gusto saludarte\", name1 + \", que tengas un excelente día.\")\n"
      ],
      "metadata": {
        "colab": {
          "base_uri": "https://localhost:8080/"
        },
        "id": "oikGCIyQCZt_",
        "outputId": "5ae9324f-5cbc-4b66-e466-c3eee06b7b7e"
      },
      "execution_count": 13,
      "outputs": [
        {
          "output_type": "stream",
          "name": "stdout",
          "text": [
            "Cuál es tu nombre?  Pedro\n",
            "Lo siento...\n",
            "Cuál es tu nombre?  Rafael\n",
            "Hola! un gusto saludarte Rafael, que tengas un excelente día.\n"
          ]
        }
      ]
    },
    {
      "cell_type": "code",
      "source": [
        "#Desarrolla un algoritmo que por medio de una función, le pida al usuario una lista de N elementos y como resultado invierta el sentido de la lista.\n",
        "\n",
        "n = int(input(\"Ingrese el número de datos de la lista: \"))\n",
        "\n",
        "Lista = []\n",
        "for x in range(n):\n",
        "    y = input(f\"Ingrese el dato {x + 1}: \")\n",
        "    Lista.append(y)\n",
        "\n",
        "inv = Lista [::-1]\n",
        "\n",
        "print(\"Lista invertida:\")\n",
        "for x in inv:\n",
        "    print(x)"
      ],
      "metadata": {
        "colab": {
          "base_uri": "https://localhost:8080/"
        },
        "id": "WegNkX0DNOq3",
        "outputId": "60fe54b9-e967-4419-fb12-c6f3eda5b70d"
      },
      "execution_count": 23,
      "outputs": [
        {
          "output_type": "stream",
          "name": "stdout",
          "text": [
            "Ingrese el número de datos de la lista: 5\n",
            "Ingrese el dato 1: 1\n",
            "Ingrese el dato 2: 2\n",
            "Ingrese el dato 3: 3\n",
            "Ingrese el dato 4: 4\n",
            "Ingrese el dato 5: 5\n",
            "Lista invertida:\n",
            "5\n",
            "4\n",
            "3\n",
            "2\n",
            "1\n"
          ]
        }
      ]
    },
    {
      "cell_type": "code",
      "source": [
        "#Desarrolla un algoritmo que le pregunte al usuario cuántos números de la serie de Fibonacci quiere generar y que al final los imprima.\n",
        "\n",
        "n = int(input(\"Cuántos numeros de la serie de Fibonacci desea? \"))\n",
        "\n",
        "SF = [0, 1]\n",
        "\n",
        "for x in range(2, n):\n",
        "    sn = SF[-1] + SF[-2]\n",
        "    SF.append(sn)\n",
        "\n",
        "print(\"Serie de Fibonacci:\")\n",
        "for numero in SF:\n",
        "    print(numero)"
      ],
      "metadata": {
        "colab": {
          "base_uri": "https://localhost:8080/"
        },
        "id": "ot-r3vHcOSa2",
        "outputId": "7f2fa142-0fa7-43e3-d245-81784521c5c6"
      },
      "execution_count": 25,
      "outputs": [
        {
          "output_type": "stream",
          "name": "stdout",
          "text": [
            "Cuántos numeros de la serie de Fibonacci desea? 10\n",
            "Serie de Fibonacci:\n",
            "0\n",
            "1\n",
            "1\n",
            "2\n",
            "3\n",
            "5\n",
            "8\n",
            "13\n",
            "21\n",
            "34\n"
          ]
        }
      ]
    }
  ]
}