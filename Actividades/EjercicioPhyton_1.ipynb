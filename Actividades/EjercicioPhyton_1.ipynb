{
  "cells": [
    {
      "cell_type": "markdown",
      "metadata": {
        "id": "2r_wJhlRCHNU"
      },
      "source": [
        "# Actividad 2: Diseño de algoritmos en Python\n",
        "**Nombre:** Rafael Medellín García     \n",
        "**Matrícula:** 2001626     \n",
        "**Hora:** Martes N4-N6"
      ]
    },
    {
      "cell_type": "markdown",
      "metadata": {
        "id": "V5-7EKqiftGq"
      },
      "source": [
        "**Ejercicio 1:** Desarrolla un algoritmo que le pida al usuario su nombre y que lo salude por su nombre, excepto si se llama “Ana”, “Juan”, y “Pedro”."
      ]
    },
    {
      "cell_type": "code",
      "execution_count": null,
      "metadata": {
        "colab": {
          "base_uri": "https://localhost:8080/"
        },
        "id": "oikGCIyQCZt_",
        "outputId": "d08a96b0-3990-40f0-9688-d41d4f93af7a"
      },
      "outputs": [
        {
          "name": "stdout",
          "output_type": "stream",
          "text": [
            "Cuál es tu nombre?  Ana\n",
            "Lo siento...\n",
            "Cuál es tu nombre?  Juan\n",
            "Lo siento...\n",
            "Cuál es tu nombre?  Pedro\n",
            "Lo siento...\n",
            "Cuál es tu nombre?  Rafael\n",
            "Hola! un gusto saludarte Rafael, que tengas un excelente día.\n"
          ]
        }
      ],
      "source": [
        "while True:\n",
        "    while True:\n",
        "        name1 = input(\"Cuál es tu nombre?  \")\n",
        "        name = name1.lower()\n",
        "        if name1.isalpha():\n",
        "            break\n",
        "        else:\n",
        "            print(\"Error: No se admiten valores númericos\")\n",
        "\n",
        "    if name != \"ana\" and name != \"juan\" and name != \"pedro\":\n",
        "        break\n",
        "    else:\n",
        "        print(\"Lo siento...\")\n",
        "\n",
        "print (\"Hola! un gusto saludarte\", name1 + \", que tengas un excelente día.\")"
      ]
    },
    {
      "cell_type": "markdown",
      "metadata": {
        "id": "Z8RoCU1yf6Q7"
      },
      "source": [
        "**Ejercicio 2:** Desarrolla un algoritmo que por medio de una función, le pida al usuario una lista de N elementos y como resultado invierta el sentido de la lista."
      ]
    },
    {
      "cell_type": "code",
      "execution_count": 3,
      "metadata": {
        "colab": {
          "base_uri": "https://localhost:8080/"
        },
        "id": "WegNkX0DNOq3",
        "outputId": "495036c3-7d20-42cb-c5a7-2e3f70298bcf"
      },
      "outputs": [
        {
          "output_type": "stream",
          "name": "stdout",
          "text": [
            "Ingrese el número de datos de la lista: 5\n",
            "Ingrese el dato 1: Piña\n",
            "Ingrese el dato 2: Fresa\n",
            "Ingrese el dato 3: Kiwi\n",
            "Ingrese el dato 4: Sandía\n",
            "Ingrese el dato 5: Mango\n",
            "Lista invertida:\n",
            "Mango\n",
            "Sandía\n",
            "Kiwi\n",
            "Fresa\n",
            "Piña\n"
          ]
        }
      ],
      "source": [
        "while True:\n",
        "    n = input(\"Ingrese el número de datos de la lista: \")\n",
        "    if n.isdigit():\n",
        "        n = int(n)\n",
        "        break\n",
        "    else:\n",
        "        print(\"Favor de ingresar un valor númerico, ej: 1,2,3,4...etc.\")\n",
        "\n",
        "Lista = []\n",
        "for x in range(n):\n",
        "    y = input(f\"Ingrese el dato {x + 1}: \")\n",
        "    Lista.append(y)\n",
        "\n",
        "inv = Lista [::-1]\n",
        "\n",
        "print(\"Lista invertida:\")\n",
        "for x in inv:\n",
        "    print(x)"
      ]
    },
    {
      "cell_type": "markdown",
      "metadata": {
        "id": "uJsQK7OkgDxL"
      },
      "source": [
        "**Ejercicio 3:** Desarrolla un algoritmo que le pregunte al usuario cuántos números de la serie de Fibonacci quiere generar y que al final los imprima."
      ]
    },
    {
      "cell_type": "code",
      "execution_count": 4,
      "metadata": {
        "colab": {
          "base_uri": "https://localhost:8080/"
        },
        "id": "ot-r3vHcOSa2",
        "outputId": "0d62b532-395c-4107-d7be-7376f4db58ca"
      },
      "outputs": [
        {
          "output_type": "stream",
          "name": "stdout",
          "text": [
            "Cuántos numeros de la serie de Fibonacci desea? diez\n",
            "Favor de ingresar un valor númerico, ej: 1,2,3,4...etc.\n",
            "Cuántos numeros de la serie de Fibonacci desea? 10\n",
            "Serie de Fibonacci:\n",
            "0\n",
            "1\n",
            "1\n",
            "2\n",
            "3\n",
            "5\n",
            "8\n",
            "13\n",
            "21\n",
            "34\n"
          ]
        }
      ],
      "source": [
        "while True:\n",
        "    n = input(\"Cuántos numeros de la serie de Fibonacci desea? \")\n",
        "    if n.isdigit():\n",
        "        n = int(n)\n",
        "        break\n",
        "    else:\n",
        "        print(\"Favor de ingresar un valor númerico, ej: 1,2,3,4...etc.\")\n",
        "\n",
        "SF = [0, 1]\n",
        "\n",
        "for x in range(2, n):\n",
        "    sn = SF[-1] + SF[-2]\n",
        "    SF.append(sn)\n",
        "\n",
        "print(\"Serie de Fibonacci:\")\n",
        "for numero in SF:\n",
        "    print(numero)"
      ]
    },
    {
      "cell_type": "markdown",
      "metadata": {
        "id": "BOuUJJRcfaxC"
      },
      "source": [
        "**Ejercicio 4:** Juego de adivinar el número: Crea un programa que genere un número aleatorio entre 1 y 100, y luego le pida al usuario que adivine el número. El programa debe proporcionar pistas al usuario si el número es mayor o menor que el número objetivo, y seguir solicitando un nuevo intento hasta que el usuario adivine correctamente."
      ]
    },
    {
      "cell_type": "code",
      "execution_count": null,
      "metadata": {
        "colab": {
          "base_uri": "https://localhost:8080/"
        },
        "id": "7phlp7hzflXi",
        "outputId": "7ea90b81-8d5b-4e14-d1bb-87f413d88886"
      },
      "outputs": [
        {
          "name": "stdout",
          "output_type": "stream",
          "text": [
            "Bienvenido al juego de adivinar el número oculto!!\n",
            "Trata de acertar el número oculto: 100\n",
            "El número es menor a 100 intenta de nuevo\n",
            "Trata de acertar el número oculto: 50\n",
            "¡Felicidades, lograste acertar el número oculto en 2 intentos!\n"
          ]
        }
      ],
      "source": [
        "import random\n",
        "\n",
        "from random import randint\n",
        "\n",
        "print(\"Bienvenido al juego de adivinar el número oculto!!\")\n",
        "\n",
        "x = randint(1,100)\n",
        "i = 0\n",
        "\n",
        "while True:\n",
        "    n = input(\"Trata de acertar el número oculto: \")\n",
        "    while True:\n",
        "      if n.isdigit():\n",
        "          n = int(n)\n",
        "          break\n",
        "      else:\n",
        "          n = input(\"Favor de ingresar un valor númerico: \")\n",
        "\n",
        "    n = int(n)\n",
        "    i += 1\n",
        "    if n < x:\n",
        "        print(\"El núero es mayor a\", n,\"intenta de nuevo\")\n",
        "    elif n > x:\n",
        "        print(\"El número es menor a\", n,\"intenta de nuevo\")\n",
        "    else:\n",
        "        print(\"¡Felicidades, lograste acertar el número oculto en\", i,\"intentos!\")\n",
        "        break"
      ]
    },
    {
      "cell_type": "markdown",
      "metadata": {
        "id": "WjdFfifhK4s-"
      },
      "source": [
        "**Ejercicio 5:** Ejercicio de cálculo de números primos en un rango dado: Escribe un programa que solicite al usuario un rango de números y muestre todos los números primos dentro de ese rango."
      ]
    },
    {
      "cell_type": "code",
      "execution_count": 1,
      "metadata": {
        "colab": {
          "base_uri": "https://localhost:8080/"
        },
        "id": "V32O2Ut-m5kL",
        "outputId": "38d15576-7298-47e1-b696-de3e123576da"
      },
      "outputs": [
        {
          "output_type": "stream",
          "name": "stdout",
          "text": [
            "Ingresa el limite inferior del rango: 1\n",
            "Ingrese el limite superior del rango: 50\n",
            "Los números primos en tu rango son los siguientes: \n",
            "2\n",
            "3\n",
            "5\n",
            "7\n",
            "11\n",
            "13\n",
            "17\n",
            "19\n",
            "23\n",
            "29\n",
            "31\n",
            "37\n",
            "41\n",
            "43\n",
            "47\n"
          ]
        }
      ],
      "source": [
        "while True:\n",
        "    a = input(\"Ingresa el limite inferior del rango: \")\n",
        "    if a.isdigit():\n",
        "        a = int(a)\n",
        "        break\n",
        "    else:\n",
        "        print(\"Favor de ingresar un valor númerico, ej: 1,2,3,4...etc.\")\n",
        "\n",
        "while True:\n",
        "    b = input(\"Ingrese el limite superior del rango: \")\n",
        "    if b.isdigit():\n",
        "        b = int(b)\n",
        "        break\n",
        "    else:\n",
        "        print(\"Favor de ingresar un valor númerico, ej: 1,2,3,4...etc.\")\n",
        "\n",
        "while True:\n",
        "    if b < a:\n",
        "        print(\"Error, el rango no es válido\")\n",
        "        a = int(input(\"Seleccione nuevamente el limite inferior: \"))\n",
        "        b = int(input(\"Seleccione nuevamente el limite superior: \"))\n",
        "    else:\n",
        "        break\n",
        "\n",
        "print(\"Los números primos en tu rango son los siguientes: \")\n",
        "\n",
        "for num in range (a,b + 1):\n",
        "    if num > 1:\n",
        "        for i in range (2, num):\n",
        "            if (num % i) == 0:\n",
        "                break\n",
        "        else:\n",
        "            print(num)"
      ]
    },
    {
      "cell_type": "markdown",
      "source": [
        "**Ejercicio 6:** Ejercicio de implementación de una calculadora básica utilizando funciones: Escribe un programa que solicite al usuario dos números y realice operaciones básicas como suma, resta, multiplicación y división utilizando funciones separadas para cada operación."
      ],
      "metadata": {
        "id": "lqSaV1HLQQfE"
      }
    },
    {
      "cell_type": "code",
      "source": [
        "def s(a, b):\n",
        "    return a + b\n",
        "\n",
        "def r(a, b):\n",
        "    return a - b\n",
        "\n",
        "def m(a, b):\n",
        "    return a * b\n",
        "\n",
        "def d(a, b):\n",
        "    if b == 0:\n",
        "        return \"Error: No se puede dividir entre cero\"\n",
        "    else:\n",
        "        return a / b\n",
        "\n",
        "while True:\n",
        "    num1 = float(input(\"Ingrese el primer número: \"))\n",
        "    num2 = float(input(\"Ingrese el segundo número: \"))\n",
        "\n",
        "    print(\"Menú de opciones\")\n",
        "    print(\"1. Sumar\")\n",
        "    print(\"2. Restar\")\n",
        "    print(\"3. Multiplicar\")\n",
        "    print(\"4. Dividir\")\n",
        "\n",
        "    opc = input(\"Por favor, seleccione una opción: \")\n",
        "    if opc == \"1\":\n",
        "        print(\"El resultado de la suma es:\", s(num1, num2))\n",
        "    elif opc == \"2\":\n",
        "        print(\"El resultado de la resta es:\", r(num1, num2))\n",
        "    elif opc == \"3\":\n",
        "        print(\"El resultado de la multiplicación es:\", m(num1, num2))\n",
        "    elif opc == \"4\":\n",
        "        print(\"El resultado de la división es:\", d(num1, num2))\n",
        "    else:\n",
        "        print(\"Opción invalida\")\n",
        "\n",
        "    x = input(\"¿Desear realizar una operación nuevamente? (si/no):   \").lower()\n",
        "    if x != 'si':\n",
        "        print(\"Gracias por usar esta calculadora, nos vemos pronto!\")\n",
        "        break"
      ],
      "metadata": {
        "colab": {
          "base_uri": "https://localhost:8080/"
        },
        "id": "F-HssVEkXzyS",
        "outputId": "6ed3e2d5-6369-4e2e-d712-90821e53951f"
      },
      "execution_count": 6,
      "outputs": [
        {
          "output_type": "stream",
          "name": "stdout",
          "text": [
            "Ingrese el primer número: 12\n",
            "Ingrese el segundo número: 5\n",
            "Menú de opciones\n",
            "1. Sumar\n",
            "2. Restar\n",
            "3. Multiplicar\n",
            "4. Dividir\n",
            "Por favor, seleccione una opción: 1\n",
            "El resultado de la suma es: 17.0\n",
            "¿Desear realizar una operación nuevamente? (si/no):   si\n",
            "Ingrese el primer número: 15\n",
            "Ingrese el segundo número: 47\n",
            "Menú de opciones\n",
            "1. Sumar\n",
            "2. Restar\n",
            "3. Multiplicar\n",
            "4. Dividir\n",
            "Por favor, seleccione una opción: 2\n",
            "El resultado de la resta es: -32.0\n",
            "¿Desear realizar una operación nuevamente? (si/no):   si\n",
            "Ingrese el primer número: 15\n",
            "Ingrese el segundo número: 6\n",
            "Menú de opciones\n",
            "1. Sumar\n",
            "2. Restar\n",
            "3. Multiplicar\n",
            "4. Dividir\n",
            "Por favor, seleccione una opción: 3\n",
            "El resultado de la multiplicación es: 90.0\n",
            "¿Desear realizar una operación nuevamente? (si/no):   si\n",
            "Ingrese el primer número: 85\n",
            "Ingrese el segundo número: 5\n",
            "Menú de opciones\n",
            "1. Sumar\n",
            "2. Restar\n",
            "3. Multiplicar\n",
            "4. Dividir\n",
            "Por favor, seleccione una opción: 4\n",
            "El resultado de la división es: 17.0\n",
            "¿Desear realizar una operación nuevamente? (si/no):   no\n",
            "Gracias por usar esta calculadora, nos vemos pronto!\n"
          ]
        }
      ]
    }
  ],
  "metadata": {
    "colab": {
      "provenance": []
    },
    "kernelspec": {
      "display_name": "Python 3",
      "name": "python3"
    },
    "language_info": {
      "name": "python"
    }
  },
  "nbformat": 4,
  "nbformat_minor": 0
}