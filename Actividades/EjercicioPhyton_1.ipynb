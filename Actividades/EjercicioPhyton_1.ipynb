{
  "nbformat": 4,
  "nbformat_minor": 0,
  "metadata": {
    "colab": {
      "provenance": []
    },
    "kernelspec": {
      "name": "python3",
      "display_name": "Python 3"
    },
    "language_info": {
      "name": "python"
    }
  },
  "cells": [
    {
      "cell_type": "markdown",
      "source": [
        "# Actividad 2: Diseño de algoritmos en Python\n",
        "**Nombre:** Rafael Medellín García     \n",
        "**Matrícula:** 2001626     \n",
        "**Hora:** Martes N4-N6"
      ],
      "metadata": {
        "id": "2r_wJhlRCHNU"
      }
    },
    {
      "cell_type": "markdown",
      "source": [
        "**Ejercicio 1:** Desarrolla un algoritmo que le pida al usuario su nombre y que lo salude por su nombre, excepto si se llama “Ana”, “Juan”, y “Pedro”."
      ],
      "metadata": {
        "id": "V5-7EKqiftGq"
      }
    },
    {
      "cell_type": "code",
      "source": [
        "while True:\n",
        "    while True:\n",
        "        name1 = input(\"Cuál es tu nombre?  \")\n",
        "        name = name1.lower()\n",
        "        if name1.isalpha():\n",
        "            break\n",
        "        else:\n",
        "            print(\"Error: No se admiten valores númericos\")\n",
        "\n",
        "    if name != \"ana\" and name != \"juan\" and name != \"pedro\":\n",
        "        break\n",
        "    else:\n",
        "        print(\"Lo siento...\")\n",
        "\n",
        "print (\"Hola! un gusto saludarte\", name1 + \", que tengas un excelente día.\")"
      ],
      "metadata": {
        "colab": {
          "base_uri": "https://localhost:8080/"
        },
        "id": "oikGCIyQCZt_",
        "outputId": "75f1fa86-b761-4eab-c574-8623b70d7d3e"
      },
      "execution_count": 39,
      "outputs": [
        {
          "output_type": "stream",
          "name": "stdout",
          "text": [
            "Cuál es tu nombre?  Ana\n",
            "Lo siento...\n",
            "Cuál es tu nombre?  Juan\n",
            "Lo siento...\n",
            "Cuál es tu nombre?  Pedro\n",
            "Lo siento...\n",
            "Cuál es tu nombre?  1234\n",
            "Error: No se admiten valores númericos\n",
            "Cuál es tu nombre?  Rafael\n",
            "Hola! un gusto saludarte Rafael, que tengas un excelente día.\n"
          ]
        }
      ]
    },
    {
      "cell_type": "markdown",
      "source": [
        "**Ejercicio 2:** Desarrolla un algoritmo que por medio de una función, le pida al usuario una lista de N elementos y como resultado invierta el sentido de la lista."
      ],
      "metadata": {
        "id": "Z8RoCU1yf6Q7"
      }
    },
    {
      "cell_type": "code",
      "source": [
        "while True:\n",
        "    n = input(\"Ingrese el número de datos de la lista: \")\n",
        "    if n.isdigit():\n",
        "        n = int(n)\n",
        "        break\n",
        "    else:\n",
        "        print(\"Favor de ingresar un valor númerico, ej: 1,2,3,4...etc.\")\n",
        "\n",
        "Lista = []\n",
        "for x in range(n):\n",
        "    y = input(f\"Ingrese el dato {x + 1}: \")\n",
        "    Lista.append(y)\n",
        "\n",
        "inv = Lista [::-1]\n",
        "\n",
        "print(\"Lista invertida:\")\n",
        "for x in inv:\n",
        "    print(x)"
      ],
      "metadata": {
        "colab": {
          "base_uri": "https://localhost:8080/"
        },
        "id": "WegNkX0DNOq3",
        "outputId": "a8123e5f-915f-4123-c1d6-2d001806aa54"
      },
      "execution_count": 32,
      "outputs": [
        {
          "output_type": "stream",
          "name": "stdout",
          "text": [
            "Ingrese el número de datos de la lista: cinco\n",
            "Favor de ingresar un valor númerico, ej: 1,2,3,4...etc.\n",
            "Ingrese el número de datos de la lista: 5\n",
            "Ingrese el dato 1: Fresa\n",
            "Ingrese el dato 2: Piña\n",
            "Ingrese el dato 3: Kiwi\n",
            "Ingrese el dato 4: Naranja\n",
            "Ingrese el dato 5: Mango\n",
            "Lista invertida:\n",
            "Mango\n",
            "Naranja\n",
            "Kiwi\n",
            "Piña\n",
            "Fresa\n"
          ]
        }
      ]
    },
    {
      "cell_type": "markdown",
      "source": [
        "**Ejercicio 3:** Desarrolla un algoritmo que le pregunte al usuario cuántos números de la serie de Fibonacci quiere generar y que al final los imprima."
      ],
      "metadata": {
        "id": "uJsQK7OkgDxL"
      }
    },
    {
      "cell_type": "code",
      "source": [
        "while True:\n",
        "    n = input(\"Cuántos numeros de la serie de Fibonacci desea? \")\n",
        "    if n.isdigit():\n",
        "        n = int(n)\n",
        "        break\n",
        "    else:\n",
        "        print(\"Favor de ingresar un valor númerico, ej: 1,2,3,4...etc.\")\n",
        "\n",
        "SF = [0, 1]\n",
        "\n",
        "for x in range(2, n):\n",
        "    sn = SF[-1] + SF[-2]\n",
        "    SF.append(sn)\n",
        "\n",
        "print(\"Serie de Fibonacci:\")\n",
        "for numero in SF:\n",
        "    print(numero)"
      ],
      "metadata": {
        "colab": {
          "base_uri": "https://localhost:8080/"
        },
        "id": "ot-r3vHcOSa2",
        "outputId": "1a2cc5de-de7d-4e20-9d72-e0c84784917f"
      },
      "execution_count": 31,
      "outputs": [
        {
          "output_type": "stream",
          "name": "stdout",
          "text": [
            "Cuántos numeros de la serie de Fibonacci desea? diez\n",
            "Favor de ingresar un valor númerico, ej: 1,2,3,4...etc.\n",
            "Cuántos numeros de la serie de Fibonacci desea? 10\n",
            "Serie de Fibonacci:\n",
            "0\n",
            "1\n",
            "1\n",
            "2\n",
            "3\n",
            "5\n",
            "8\n",
            "13\n",
            "21\n",
            "34\n"
          ]
        }
      ]
    }
  ]
}